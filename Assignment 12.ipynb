{
 "cells": [
  {
   "cell_type": "markdown",
   "metadata": {},
   "source": [
    "1.\tWrite a Python program to Extract Unique values dictionary values?\n",
    "2.\tWrite a Python program to find the sum of all items in a dictionary?\n",
    "3.\tWrite a Python program to Merging two Dictionaries?\n",
    "4.\tWrite a Python program to convert key-values list to flat dictionary?\n",
    "5.\tWrite a Python program to insertion at the beginning in OrderedDict?\n",
    "6.\tWrite a Python program to check order of character in string using OrderedDict()?\n",
    "7.\tWrite a Python program to sort Python Dictionaries by Key or Value?\n"
   ]
  },
  {
   "cell_type": "code",
   "execution_count": 1,
   "metadata": {},
   "outputs": [
    {
     "data": {
      "text/plain": [
       "(dict,\n",
       " {'name': ['x', 'y', 'z'],\n",
       "  'age': 29,\n",
       "  'blood-Group': 'A',\n",
       "  'section': 'A',\n",
       "  'grade': 'A',\n",
       "  'city': 'Mumbai',\n",
       "  'fname': ['x', 'y', 'z'],\n",
       "  'lname': ['x', 'y'],\n",
       "  'country': {'australia', 'india'},\n",
       "  'vehicle': {'car': 'Audi', 'bike': 'honda'},\n",
       "  'vehicle1': {'car': 'Audi', 'bike': 'honda'},\n",
       "  'age1': 31,\n",
       "  'age2': 45,\n",
       "  'age3': 21,\n",
       "  'age4': 21,\n",
       "  1: 23.3})"
      ]
     },
     "execution_count": 1,
     "metadata": {},
     "output_type": "execute_result"
    }
   ],
   "source": [
    "dict1 = {\"name\": [\"x\",\"y\",\"z\"],\n",
    "         \"age\": 29,\n",
    "         \"blood-Group\" : \"A\",\n",
    "         \"section\": \"A\",\n",
    "         \"grade\": \"A\",\n",
    "         \"city\": \"Mumbai\",\n",
    "         \"fname\": [\"x\",\"y\",\"z\"],\n",
    "         \"lname\": [\"x\",\"y\"],\n",
    "         \"country\":{\"india\", \"australia\"},\n",
    "         \"vehicle\": {\"car\": \"Audi\", \"bike\": \"honda\"},\n",
    "         \"vehicle1\":{\"car\": \"Audi\", \"bike\": \"honda\"},\n",
    "         \"age1\": 31,\n",
    "         \"age2\":45,\n",
    "         \"age3\": 21,\n",
    "         \"age4\":21,\n",
    "         1:23.3\n",
    "         \n",
    "         \n",
    "         }\n",
    "type(dict1),dict1"
   ]
  },
  {
   "cell_type": "code",
   "execution_count": 2,
   "metadata": {},
   "outputs": [
    {
     "name": "stdout",
     "output_type": "stream",
     "text": [
      "[29, 'A', 'Mumbai', ['x', 'y'], {'australia', 'india'}, 31, 45, 23.3]\n"
     ]
    }
   ],
   "source": [
    "#Write a Python program to Extract Unique values dictionary values\n",
    "l=[]\n",
    "for i in dict1.values():\n",
    "    if i in l:\n",
    "        l.remove(i)\n",
    "    else:\n",
    "        l.append(i)\n",
    "print(l)"
   ]
  },
  {
   "cell_type": "code",
   "execution_count": 3,
   "metadata": {},
   "outputs": [
    {
     "data": {
      "text/plain": [
       "170.3"
      ]
     },
     "execution_count": 3,
     "metadata": {},
     "output_type": "execute_result"
    }
   ],
   "source": [
    "#Write a Python program to find the sum of all items in a dictionary\n",
    "sum1=0\n",
    "for i in dict1.values():\n",
    "    if type(i)==int or type(i)==float:\n",
    "        sum1= sum1+i\n",
    "sum1\n",
    "    \n",
    "        \n",
    "        "
   ]
  },
  {
   "cell_type": "code",
   "execution_count": 4,
   "metadata": {},
   "outputs": [
    {
     "data": {
      "text/plain": [
       "{'name': ['x', 'y', 'z'],\n",
       " 'age': 29,\n",
       " 'blood-Group': 'A',\n",
       " 'section': 'A',\n",
       " 'grade': 'A',\n",
       " 'city': 'Mumbai',\n",
       " 'fname': ['x', 'y', 'z'],\n",
       " 'lname': ['x', 'y'],\n",
       " 'country': {'australia', 'india'},\n",
       " 'vehicle': {'car': 'Audi', 'bike': 'honda'},\n",
       " 'vehicle1': {'car': 'Audi', 'bike': 'honda'},\n",
       " 'age1': 31,\n",
       " 'age2': 45,\n",
       " 'age3': 21,\n",
       " 'age4': 21,\n",
       " 1: 23.3,\n",
       " 'course': 'Full Stack Data Science'}"
      ]
     },
     "execution_count": 4,
     "metadata": {},
     "output_type": "execute_result"
    }
   ],
   "source": [
    "#Write a Python program to Merging two Dictionaries\n",
    "dict2 = {\"course\" : \"Full Stack Data Science\",\n",
    "        'name': ['x', 'y', 'z']}\n",
    "dict1.update(dict2)\n",
    "dict1"
   ]
  },
  {
   "cell_type": "code",
   "execution_count": 5,
   "metadata": {},
   "outputs": [
    {
     "data": {
      "text/plain": [
       "{'name': ['x', 'y', 'z'],\n",
       " 'age': 29,\n",
       " 'blood-Group': 'A',\n",
       " 'section': 'A',\n",
       " 'grade': 'A',\n",
       " 'city': 'Mumbai',\n",
       " 'fname': ['x', 'y', 'z'],\n",
       " 'lname': ['x', 'y'],\n",
       " 'country': {'australia', 'india'},\n",
       " 'vehicle': {'car': 'Audi', 'bike': 'honda'},\n",
       " 'vehicle1': {'car': 'Audi', 'bike': 'honda'},\n",
       " 'age1': 31,\n",
       " 'age2': 45,\n",
       " 'age3': 21,\n",
       " 'age4': 21,\n",
       " 1: 23.3,\n",
       " 'course': 'Full Stack Data Science'}"
      ]
     },
     "execution_count": 5,
     "metadata": {},
     "output_type": "execute_result"
    }
   ],
   "source": [
    "dict1.update(dict2)\n",
    "dict1"
   ]
  },
  {
   "cell_type": "code",
   "execution_count": 6,
   "metadata": {},
   "outputs": [],
   "source": [
    "#Write a Python program to convert key-values list to flat dictionary?\n",
    "d = {\"times\":[1,2,3], \"eleven\" :[11,22]}\n",
    "\n",
    "d1 = dict(zip(d[\"times\"], d[\"eleven\"]))"
   ]
  },
  {
   "cell_type": "code",
   "execution_count": 7,
   "metadata": {},
   "outputs": [
    {
     "data": {
      "text/plain": [
       "{'times': [1, 2, 3],\n",
       " 'eleven': [11, 22],\n",
       " 'name': ['x', 'y', 'z'],\n",
       " 'age': 29,\n",
       " 'blood-Group': 'A',\n",
       " 'section': 'A',\n",
       " 'grade': 'A',\n",
       " 'city': 'Mumbai',\n",
       " 'fname': ['x', 'y', 'z'],\n",
       " 'lname': ['x', 'y'],\n",
       " 'country': {'australia', 'india'},\n",
       " 'vehicle': {'car': 'Audi', 'bike': 'honda'},\n",
       " 'vehicle1': {'car': 'Audi', 'bike': 'honda'},\n",
       " 'age1': 31,\n",
       " 'age2': 45,\n",
       " 'age3': 21,\n",
       " 'age4': 21,\n",
       " 1: 23.3,\n",
       " 'course': 'Full Stack Data Science'}"
      ]
     },
     "execution_count": 7,
     "metadata": {},
     "output_type": "execute_result"
    }
   ],
   "source": [
    "#Write a Python program to insertion at the beginning in OrderedDict\n",
    "\n",
    "d.update(dict1)\n",
    "d"
   ]
  },
  {
   "cell_type": "code",
   "execution_count": 8,
   "metadata": {},
   "outputs": [
    {
     "name": "stdout",
     "output_type": "stream",
     "text": [
      "Grade\n",
      "age\n",
      "age1\n",
      "age2\n",
      "age3\n",
      "age4\n",
      "blood-Group\n",
      "city\n",
      "country\n",
      "fname\n",
      "lname\n",
      "name\n",
      "section\n",
      "vehicle\n",
      "vehicle1\n",
      "21\n",
      "21\n",
      "29\n",
      "31\n",
      "45\n",
      "A\n",
      "A\n",
      "A\n",
      "Mumbai\n"
     ]
    }
   ],
   "source": [
    "#Write a Python program to sort Python Dictionaries by Key or Value?\n",
    "dict1 = {\"name\": [\"x\",\"y\",\"m\"],\n",
    "         \"age\": 29,\n",
    "         \"blood-Group\" : \"A\",\n",
    "         \"section\": \"A\",\n",
    "         \"Grade\": \"A\",\n",
    "         \"city\": \"Mumbai\",\n",
    "         \"fname\": [\"x\",\"a\",\"z\"],\n",
    "         \"lname\": [\"x\",\"y\",\"z\"],\n",
    "         \"country\":{\"india\", \"australia\"},\n",
    "         \"vehicle\": {\"car\": \"Audi\", \"bike\": \"honda\"},\n",
    "         \"vehicle1\":{\"car\": \"Audi\", \"bike\": \"honda\"},\n",
    "         \"age1\": 31,\n",
    "         \"age2\":45,\n",
    "         \"age3\": 21,\n",
    "         \"age4\":21,\n",
    "         1:23.3\n",
    "         \n",
    "         \n",
    "         }\n",
    "\n",
    "d={}\n",
    "for i in dict1.items():\n",
    "    if type(i[0])==str:\n",
    "        d[i[0]]=i[1]\n",
    "for i in sorted(d.keys()):\n",
    "    print(i)\n",
    "d={}\n",
    "m={}\n",
    "for i in dict1.items():\n",
    "    if type(i[1])==int:\n",
    "        d[i[0]]=i[1]\n",
    "    elif type(i[1])==str:\n",
    "        m[i[0]]=i[1]\n",
    "for i in sorted(d.values()):\n",
    "    print(i)\n",
    "for i in sorted(m.values()):\n",
    "    print(i)"
   ]
  },
  {
   "cell_type": "code",
   "execution_count": 14,
   "metadata": {},
   "outputs": [
    {
     "data": {
      "text/plain": [
       "{'blood-Group': 'A',\n",
       " 'section': 'A',\n",
       " 'Grade': 'A',\n",
       " 'city': 'Mumbai',\n",
       " 'age3': 21,\n",
       " 'age4': 21,\n",
       " 'age': 29,\n",
       " 'age1': 31,\n",
       " 'age2': 45,\n",
       " 'name': ['x', 'y', 'm'],\n",
       " 'fname': ['x', 'a', 'z'],\n",
       " 'lname': ['x', 'y', 'z'],\n",
       " 'country': {'australia', 'india'},\n",
       " 'vehicle': {'car': 'Audi', 'bike': 'honda'},\n",
       " 'vehicle1': {'car': 'Audi', 'bike': 'honda'},\n",
       " 1: 23.3}"
      ]
     },
     "execution_count": 14,
     "metadata": {},
     "output_type": "execute_result"
    }
   ],
   "source": [
    "#Write a Python program to sort Python Dictionaries by Key or Value?\n",
    "\n",
    "\n",
    "def dict_sort(dictionary, sort_by):\n",
    "    l = list(dict1.items())\n",
    "    l_int = []\n",
    "    l_str = []\n",
    "    l_all = []\n",
    "    \n",
    "        \n",
    "    \n",
    "    if sort_by == \"keys\":\n",
    "        for i in l:\n",
    "            if type(i[0])==int:\n",
    "                l_int.append(i)\n",
    "            else:\n",
    "                l_str.append(i)\n",
    "        l_str.sort()\n",
    "        l_int.sort()\n",
    "\n",
    "    elif sort_by == \"values\":\n",
    "        for i in l:\n",
    "            if type(i[1])==int:\n",
    "                l_int.append(i)\n",
    "            elif type(i[1])==str:\n",
    "                l_str.append(i)\n",
    "            else:\n",
    "                l_all.append(i)\n",
    "        l_str.sort(key = lambda x: x[1])\n",
    "        l_int.sort(key = lambda x: x[1])\n",
    "    else:\n",
    "        return \"Invalid\"\n",
    "    \n",
    "   \n",
    "    l = l_str + l_int + l_all\n",
    "    final_dict = dict(l)\n",
    "    return final_dict\n",
    "dict_sort(dict1, \"values\")"
   ]
  },
  {
   "cell_type": "code",
   "execution_count": null,
   "metadata": {},
   "outputs": [],
   "source": []
  },
  {
   "cell_type": "code",
   "execution_count": null,
   "metadata": {},
   "outputs": [],
   "source": []
  }
 ],
 "metadata": {
  "kernelspec": {
   "display_name": "Python 3",
   "language": "python",
   "name": "python3"
  },
  "language_info": {
   "codemirror_mode": {
    "name": "ipython",
    "version": 3
   },
   "file_extension": ".py",
   "mimetype": "text/x-python",
   "name": "python",
   "nbconvert_exporter": "python",
   "pygments_lexer": "ipython3",
   "version": "3.8.5"
  }
 },
 "nbformat": 4,
 "nbformat_minor": 4
}
