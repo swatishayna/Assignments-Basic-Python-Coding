{
 "cells": [
  {
   "cell_type": "markdown",
   "metadata": {},
   "source": [
    "1.\tWrite a Python program to find words which are greater than given length k?\n",
    "2.\tWrite a Python program for removing i-th character from a string?\n",
    "3.\tWrite a Python program to split and join a string?\n",
    "4.\tWrite a Python to check if a given string is binary string or not?\n",
    "5.\tWrite a Python program to find uncommon words from two Strings?\n",
    "6.\tWrite a Python to find all duplicate characters in string?\n",
    "7.\tWrite a Python Program to check if a string contains any special character?\n"
   ]
  },
  {
   "cell_type": "code",
   "execution_count": 55,
   "metadata": {},
   "outputs": [
    {
     "name": "stdout",
     "output_type": "stream",
     "text": [
      "Enter the value of k5\n"
     ]
    },
    {
     "data": {
      "text/plain": [
       "['Machine',\n",
       " 'learning',\n",
       " 'branch',\n",
       " 'artificial',\n",
       " 'intelligence',\n",
       " 'focused',\n",
       " 'building',\n",
       " 'applications',\n",
       " 'improve',\n",
       " 'accuracy',\n",
       " 'without',\n",
       " 'programmed',\n",
       " 'science,',\n",
       " 'algorithm',\n",
       " 'sequence',\n",
       " 'statistical',\n",
       " 'processing',\n",
       " 'steps.']"
      ]
     },
     "execution_count": 55,
     "metadata": {},
     "output_type": "execute_result"
    }
   ],
   "source": [
    "#Write a Python program to find words which are greater than given length k?\n",
    "string1 = \"Machine learning is a branch of artificial intelligence (AI) focused \\non building applications that learn from data and improve their accuracy over time \\nwithout being programmed to do so. In data science, an algorithm is a \\nsequence of statistical processing steps.\"\n",
    "l= list(string1.split())\n",
    "d=[]\n",
    "k=int(input(\"Enter the value of k\"))\n",
    "for i in l:\n",
    "    if len(i)>k:\n",
    "        d.append(i)\n",
    "d"
   ]
  },
  {
   "cell_type": "code",
   "execution_count": 34,
   "metadata": {},
   "outputs": [
    {
     "name": "stdout",
     "output_type": "stream",
     "text": [
      "Enter the index number:   1\n"
     ]
    },
    {
     "data": {
      "text/plain": [
       "'Mchine Lerning'"
      ]
     },
     "execution_count": 34,
     "metadata": {},
     "output_type": "execute_result"
    }
   ],
   "source": [
    "#Write a Python program for removing i-th character from a string?\n",
    "string2 = \"Machine Learning\"\n",
    "index = int(input(\"Enter the index number:   \"))\n",
    "string2.replace(string2[index],\"\")"
   ]
  },
  {
   "cell_type": "code",
   "execution_count": 56,
   "metadata": {},
   "outputs": [
    {
     "name": "stdout",
     "output_type": "stream",
     "text": [
      "Machine learning is a branch of artificial intelligence (AI) focused \n",
      "on building applications that learn from data and improve their accuracy over time \n",
      "without being programmed to do so. In data science, an algorithm is a \n",
      "sequence of statistical processing steps.\n",
      "['Machine learning is a branch of artificial intelligence (AI) focused \\non building applications that learn fro', ' data and i', 'prove their accuracy over ti', 'e \\nwithout being progra', '', 'ed to do so. In data science, an algorith', ' is a \\nsequence of statistical processing steps.'] <class 'list'>\n",
      "\n",
      "\n",
      "\n",
      "\n"
     ]
    },
    {
     "data": {
      "text/plain": [
       "'Machine learning is a branch of artificial intelligence (AI) focused \\non building applications that learn from data and improve their accuracy over time \\nwithout being programmed to do so. In data science, an algorithm is a \\nsequence of statistical processing steps.'"
      ]
     },
     "execution_count": 56,
     "metadata": {},
     "output_type": "execute_result"
    }
   ],
   "source": [
    "#Write a Python program to split and join a string?\n",
    "print(string1)\n",
    "string_split=string1.split(\"m\")\n",
    "print(string_split,type(string_split))\n",
    "\n",
    "print(\"\\n\\n\\n\")\n",
    "\"m\".join(string_split)\n"
   ]
  },
  {
   "cell_type": "code",
   "execution_count": 66,
   "metadata": {},
   "outputs": [
    {
     "data": {
      "text/plain": [
       "True"
      ]
     },
     "execution_count": 66,
     "metadata": {},
     "output_type": "execute_result"
    }
   ],
   "source": [
    "#Write a Python to check if a given string is binary string or not?\n",
    "def binaryString(string):\n",
    "    if all(string[i]==\"0\" or string[i]==\"1\" for i in range(len(string))): \n",
    "        return True\n",
    "    else:\n",
    "        return False\n",
    "binaryString(\"10101011\")"
   ]
  },
  {
   "cell_type": "code",
   "execution_count": 76,
   "metadata": {},
   "outputs": [
    {
     "name": "stdout",
     "output_type": "stream",
     "text": [
      "{\"country's\", 'country,', 'is', 'my', 'name', 'India', '.'} {\"country's\", 'country,', 'is', 'your', 'name', 'Australia', '.'}\n"
     ]
    },
    {
     "data": {
      "text/plain": [
       "{'Australia', 'India', 'my', 'your'}"
      ]
     },
     "execution_count": 76,
     "metadata": {},
     "output_type": "execute_result"
    }
   ],
   "source": [
    "#Write a Python program to find uncommon words from two Strings\n",
    "string1 = \"India is my country, my country's name is India .\"\n",
    "string2 = \"Australia is your country, your country's name is Australia .\"\n",
    "s1 = set(string1.split())\n",
    "s2 = set(string2.split())\n",
    "print(s1,s2)\n",
    "s1.symmetric_difference(s2)"
   ]
  },
  {
   "cell_type": "code",
   "execution_count": 99,
   "metadata": {},
   "outputs": [
    {
     "data": {
      "text/plain": [
       "['a', 'f']"
      ]
     },
     "execution_count": 99,
     "metadata": {},
     "output_type": "execute_result"
    }
   ],
   "source": [
    "#Write a Python to find all duplicate characters in string?\n",
    "def DuplicateChar(string1):\n",
    "    l=[]\n",
    "    for i in string1:\n",
    "        if i != \" \":\n",
    "            count = string1.count(i)\n",
    "            string1 = string1.replace(i,\"\")\n",
    "            if count > 1:\n",
    "                l.append(i)\n",
    "    return l\n",
    "DuplicateChar(\"a aa a a bc aff\")"
   ]
  },
  {
   "cell_type": "code",
   "execution_count": 3,
   "metadata": {},
   "outputs": [
    {
     "name": "stdout",
     "output_type": "stream",
     "text": [
      "yes\n"
     ]
    }
   ],
   "source": [
    "#Write a Python Program to check if a string contains any special character\n",
    "import re\n",
    "string1 = \"12.2 12.5 12 1>\"\n",
    "regex = re.compile('[@_!#$%^&*()<>?/\\|}{~:]')\n",
    "if (regex.search(string1)==None):\n",
    "    print(\"no\")\n",
    "else: \n",
    "    print(\"yes\")\n",
    "\n",
    "    "
   ]
  }
 ],
 "metadata": {
  "kernelspec": {
   "display_name": "Python 3",
   "language": "python",
   "name": "python3"
  },
  "language_info": {
   "codemirror_mode": {
    "name": "ipython",
    "version": 3
   },
   "file_extension": ".py",
   "mimetype": "text/x-python",
   "name": "python",
   "nbconvert_exporter": "python",
   "pygments_lexer": "ipython3",
   "version": "3.8.5"
  }
 },
 "nbformat": 4,
 "nbformat_minor": 4
}
