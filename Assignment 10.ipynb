{
 "cells": [
  {
   "cell_type": "markdown",
   "metadata": {},
   "source": [
    "1.\tWrite a Python program to find sum of elements in list?\n",
    "2.\tWrite a Python program to  Multiply all numbers in the list?\n",
    "3.\tWrite a Python program to find smallest number in a list?\n",
    "4.\tWrite a Python program to find largest number in a list?\n",
    "5.\tWrite a Python program to find second largest number in a list?\n",
    "6.\tWrite a Python program to find N largest elements from a list?\n",
    "7.\tWrite a Python program to print even numbers in a list?\n",
    "8.\tWrite a Python program to print odd numbers in a List?\n",
    "9.\tWrite a Python program to Remove empty List from List?\n",
    "10.\tWrite a Python program to Cloning or Copying a list?\n",
    "11.\tWrite a Python program to Count occurrences of an element in a list?\n"
   ]
  },
  {
   "cell_type": "code",
   "execution_count": 16,
   "metadata": {},
   "outputs": [
    {
     "data": {
      "text/plain": [
       "13.399999999999999"
      ]
     },
     "execution_count": 16,
     "metadata": {},
     "output_type": "execute_result"
    }
   ],
   "source": [
    "# Write a Python program to find sum of elements in list?\n",
    "l=[1,\"a\",\"e\",2,3,5,[1,2],1+6j,1.2,1.2]\n",
    "sum = 0\n",
    "for i in l:\n",
    "    if (type(i)==int or type(i)==float):\n",
    "        sum = sum + i\n",
    "sum"
   ]
  },
  {
   "cell_type": "code",
   "execution_count": 18,
   "metadata": {},
   "outputs": [
    {
     "data": {
      "text/plain": [
       "43.199999999999996"
      ]
     },
     "execution_count": 18,
     "metadata": {},
     "output_type": "execute_result"
    }
   ],
   "source": [
    "#Write a Python program to Multiply all numbers in the list?\n",
    "l=[1,\"a\",\"e\",2,3,5,[1,2],1+6j,1.2,1.2]\n",
    "product = 1\n",
    "for i in l:\n",
    "    if (type(i)==int or type(i)==float):\n",
    "        product = product * i\n",
    "product"
   ]
  },
  {
   "cell_type": "code",
   "execution_count": 29,
   "metadata": {},
   "outputs": [
    {
     "name": "stdout",
     "output_type": "stream",
     "text": [
      "list with integers and float numbers in list l is [1, 2, 3, 5, 1.2, 1.2]\n",
      "the smallest number in list  [1, 'a', 'e', 2, 3, 5, [1, 2], (1+6j), 1.2, 1.2] is 1\n"
     ]
    }
   ],
   "source": [
    "#Write a Python program to find smallest number in a list?\n",
    "l=[1,\"a\",\"e\",2,3,5,[1,2],1+6j,1.2,1.2]\n",
    "d=[]\n",
    "for i in l:\n",
    "    if (type(i)==int or type(i)==float):\n",
    "        d.append(i)\n",
    "print(\"list with integers and float numbers in list l is\",d)          \n",
    "print(\"the smallest number in list \", l,\"is\", min(d))        "
   ]
  },
  {
   "cell_type": "code",
   "execution_count": 30,
   "metadata": {},
   "outputs": [
    {
     "name": "stdout",
     "output_type": "stream",
     "text": [
      "list with integers and float numbers in list l is [1, 2, 3, 5, 1.2, 1.2]\n",
      "the largest number in list  [1, 'a', 'e', 2, 3, 5, [1, 2], (1+6j), 1.2, 1.2] is 5\n"
     ]
    }
   ],
   "source": [
    "#Write a Python program to find largest number in a list?\n",
    "l=[1,\"a\",\"e\",2,3,5,[1,2],1+6j,1.2,1.2]\n",
    "d=[]\n",
    "for i in l:\n",
    "    if (type(i)==int or type(i)==float):\n",
    "        d.append(i)\n",
    "print(\"list with integers and float numbers in list l is\",d)          \n",
    "print(\"the largest number in list \", l,\"is\", max(d))"
   ]
  },
  {
   "cell_type": "code",
   "execution_count": 33,
   "metadata": {},
   "outputs": [
    {
     "name": "stdout",
     "output_type": "stream",
     "text": [
      "list with integers and float numbers in list l is [1, 2, 3, 5, 1.2, 1.2]\n",
      "the second largest number in list  [1, 'a', 'e', 2, 3, 5, [1, 2], (1+6j), 1.2, 1.2] is 3\n"
     ]
    }
   ],
   "source": [
    "#Write a Python program to find second largest number in a list?\n",
    "l=[1,\"a\",\"e\",2,3,5,[1,2],1+6j,1.2,1.2]\n",
    "d=[]\n",
    "for i in l:\n",
    "    if (type(i)==int or type(i)==float):\n",
    "        d.append(i)\n",
    "print(\"list with integers and float numbers in list l is\",d)       \n",
    "d.remove(max(d))\n",
    "print(\"the second largest number in list \", l,\"is\", max(d))"
   ]
  },
  {
   "cell_type": "code",
   "execution_count": 49,
   "metadata": {},
   "outputs": [
    {
     "data": {
      "text/plain": [
       "[111.2, 101, 77]"
      ]
     },
     "execution_count": 49,
     "metadata": {},
     "output_type": "execute_result"
    }
   ],
   "source": [
    "#Write a Python program to find N largest elements from a list? \n",
    "def Nlargest(list,n):\n",
    "    d=[]\n",
    "    m=[]\n",
    "    for i in list:\n",
    "        if (type(i)==int or type(i)==float):\n",
    "            d.append(i)\n",
    "    for j in range(n):\n",
    "        m.append(max(d))\n",
    "        d.remove(max(d))\n",
    "    return m\n",
    "Nlargest([1,2,3,3,44,55,\"a\",101,77,11.2,111.2,[1,2],11,2+3j],3)"
   ]
  },
  {
   "cell_type": "code",
   "execution_count": 54,
   "metadata": {},
   "outputs": [
    {
     "data": {
      "text/plain": [
       "[2, 4, 6, 22, 90]"
      ]
     },
     "execution_count": 54,
     "metadata": {},
     "output_type": "execute_result"
    }
   ],
   "source": [
    "#Write a Python program to print even numbers in a list\n",
    "def even(list):\n",
    "    d=[]\n",
    "    for i in list:\n",
    "        if type(i)==int:\n",
    "            if i%2 == 0:\n",
    "                d.append(i)\n",
    "    return d\n",
    "even([1,2,3,4,5,6,11,7,11,22,45,90,\"a\",[5,8],2+6j])"
   ]
  },
  {
   "cell_type": "code",
   "execution_count": 56,
   "metadata": {},
   "outputs": [
    {
     "data": {
      "text/plain": [
       "[1, 3, 5, 11, 7, 11, 45]"
      ]
     },
     "execution_count": 56,
     "metadata": {},
     "output_type": "execute_result"
    }
   ],
   "source": [
    "#Write a Python program to print odd numbers in a List?\n",
    "def odd(list):\n",
    "    d=[]\n",
    "    for i in list:\n",
    "        if type(i)==int:\n",
    "            if i%2 != 0:\n",
    "                d.append(i)\n",
    "    return d\n",
    "odd([1,2,3,4,5,6,11,7,11,22,45,90,\"a\",[5,8],2+6j])"
   ]
  },
  {
   "cell_type": "code",
   "execution_count": 63,
   "metadata": {},
   "outputs": [
    {
     "name": "stdout",
     "output_type": "stream",
     "text": [
      "[2, 4, 6, 22, 46]\n",
      "[1, 3, 5, 11111]\n"
     ]
    }
   ],
   "source": [
    "#Write a Python program to print even numbers in a list?\n",
    "#Write a Python program to print odd numbers in a List?\n",
    "l=[1,2,3,4,5,6,\"a\",\"Xyz\",2+5j,11111,22,46]\n",
    "print(even(l))\n",
    "print(odd(l))"
   ]
  },
  {
   "cell_type": "code",
   "execution_count": 85,
   "metadata": {},
   "outputs": [
    {
     "name": "stdout",
     "output_type": "stream",
     "text": [
      "[1, 1, 1, [2, 3, 4]]\n"
     ]
    }
   ],
   "source": [
    "#Write a Python program to Remove empty List from List?\n",
    "l=[1,1,1,[],[2,3,4]]\n",
    "for i in l:\n",
    "    if type(i)==list:\n",
    "        if len(i)>0:\n",
    "            pass\n",
    "        else:\n",
    "            l.remove(i)\n",
    "print(l)"
   ]
  },
  {
   "cell_type": "code",
   "execution_count": 91,
   "metadata": {},
   "outputs": [
    {
     "data": {
      "text/plain": [
       "([1, 1, 1, [], [2, 3, 4], 6], [1, 1, 1, [], [2, 3, 4]])"
      ]
     },
     "execution_count": 91,
     "metadata": {},
     "output_type": "execute_result"
    }
   ],
   "source": [
    "#Write a Python program to Cloning or Copying a list?\n",
    "l=[1,1,1,[],[2,3,4]]\n",
    "m=l.copy()\n",
    "m.append(6)\n",
    "m,l"
   ]
  },
  {
   "cell_type": "code",
   "execution_count": 98,
   "metadata": {},
   "outputs": [
    {
     "data": {
      "text/plain": [
       "3"
      ]
     },
     "execution_count": 98,
     "metadata": {},
     "output_type": "execute_result"
    }
   ],
   "source": [
    "#Write a Python program to Count occurrences of an element in a list?\n",
    "l=[1,1,1,[],[2,3,4],\"a\",\"A\",\"a\",2]\n",
    "l.count(1)"
   ]
  },
  {
   "cell_type": "code",
   "execution_count": null,
   "metadata": {},
   "outputs": [],
   "source": []
  }
 ],
 "metadata": {
  "kernelspec": {
   "display_name": "Python 3",
   "language": "python",
   "name": "python3"
  },
  "language_info": {
   "codemirror_mode": {
    "name": "ipython",
    "version": 3
   },
   "file_extension": ".py",
   "mimetype": "text/x-python",
   "name": "python",
   "nbconvert_exporter": "python",
   "pygments_lexer": "ipython3",
   "version": "3.8.5"
  }
 },
 "nbformat": 4,
 "nbformat_minor": 4
}
