{
 "cells": [
  {
   "cell_type": "markdown",
   "metadata": {},
   "source": [
    "1.\tWrite a Python program to convert kilometers to miles?\n",
    "2.\tWrite a Python program to convert Celsius to Fahrenheit?\n",
    "3.\tWrite a Python program to display calendar?\n",
    "4.\tWrite a Python program to solve quadratic equation?\n",
    "5.\tWrite a Python program to swap two variables without temp variable?\n"
   ]
  },
  {
   "cell_type": "code",
   "execution_count": 2,
   "metadata": {},
   "outputs": [
    {
     "name": "stdout",
     "output_type": "stream",
     "text": [
      "Enter Km Value here:1\n",
      "1 km is equivalent to  0.6213711922 mile\n"
     ]
    }
   ],
   "source": [
    "#Write a Python program to convert kilometers to miles?\n",
    "km = int(input(\"Enter Km Value here:\"))\n",
    "mile = km * 0.6213711922\n",
    "print(km,\"km is equivalent to \",mile,\"mile\")"
   ]
  },
  {
   "cell_type": "code",
   "execution_count": 3,
   "metadata": {},
   "outputs": [
    {
     "name": "stdout",
     "output_type": "stream",
     "text": [
      "enter celcius here: 1\n",
      "1 `C is equivalent to  33.8 `F\n"
     ]
    }
   ],
   "source": [
    "#Write a Python program to convert Celsius to Fahrenheit?\n",
    "celsius = int(input(\"enter celcius here: \"))\n",
    "Fahrenheit = celsius * 33.8\n",
    "print(celsius,\"`C is equivalent to \",Fahrenheit,\"`F\")"
   ]
  },
  {
   "cell_type": "code",
   "execution_count": 4,
   "metadata": {},
   "outputs": [
    {
     "data": {
      "text/plain": [
       "'                                  2021\\n\\n      January                   February                   March\\nMo Tu We Th Fr Sa Su      Mo Tu We Th Fr Sa Su      Mo Tu We Th Fr Sa Su\\n             1  2  3       1  2  3  4  5  6  7       1  2  3  4  5  6  7\\n 4  5  6  7  8  9 10       8  9 10 11 12 13 14       8  9 10 11 12 13 14\\n11 12 13 14 15 16 17      15 16 17 18 19 20 21      15 16 17 18 19 20 21\\n18 19 20 21 22 23 24      22 23 24 25 26 27 28      22 23 24 25 26 27 28\\n25 26 27 28 29 30 31                                29 30 31\\n\\n       April                      May                       June\\nMo Tu We Th Fr Sa Su      Mo Tu We Th Fr Sa Su      Mo Tu We Th Fr Sa Su\\n          1  2  3  4                      1  2          1  2  3  4  5  6\\n 5  6  7  8  9 10 11       3  4  5  6  7  8  9       7  8  9 10 11 12 13\\n12 13 14 15 16 17 18      10 11 12 13 14 15 16      14 15 16 17 18 19 20\\n19 20 21 22 23 24 25      17 18 19 20 21 22 23      21 22 23 24 25 26 27\\n26 27 28 29 30            24 25 26 27 28 29 30      28 29 30\\n                          31\\n\\n        July                     August                  September\\nMo Tu We Th Fr Sa Su      Mo Tu We Th Fr Sa Su      Mo Tu We Th Fr Sa Su\\n          1  2  3  4                         1             1  2  3  4  5\\n 5  6  7  8  9 10 11       2  3  4  5  6  7  8       6  7  8  9 10 11 12\\n12 13 14 15 16 17 18       9 10 11 12 13 14 15      13 14 15 16 17 18 19\\n19 20 21 22 23 24 25      16 17 18 19 20 21 22      20 21 22 23 24 25 26\\n26 27 28 29 30 31         23 24 25 26 27 28 29      27 28 29 30\\n                          30 31\\n\\n      October                   November                  December\\nMo Tu We Th Fr Sa Su      Mo Tu We Th Fr Sa Su      Mo Tu We Th Fr Sa Su\\n             1  2  3       1  2  3  4  5  6  7             1  2  3  4  5\\n 4  5  6  7  8  9 10       8  9 10 11 12 13 14       6  7  8  9 10 11 12\\n11 12 13 14 15 16 17      15 16 17 18 19 20 21      13 14 15 16 17 18 19\\n18 19 20 21 22 23 24      22 23 24 25 26 27 28      20 21 22 23 24 25 26\\n25 26 27 28 29 30 31      29 30                     27 28 29 30 31\\n'"
      ]
     },
     "execution_count": 4,
     "metadata": {},
     "output_type": "execute_result"
    }
   ],
   "source": [
    "#Write a Python program to display calendar?\n",
    "import calendar\n",
    "calendar.calendar(2021)"
   ]
  },
  {
   "cell_type": "code",
   "execution_count": 5,
   "metadata": {},
   "outputs": [
    {
     "name": "stdout",
     "output_type": "stream",
     "text": [
      "roots are complex and root 1 =  (-0.5-0.8660254037844386j) root2 =  (-0.5+0.8660254037844386j)\n"
     ]
    }
   ],
   "source": [
    "#Write a Python program to solve quadratic equation?\n",
    "def quadeqn(a,b,c):\n",
    "    import cmath\n",
    "    decision_fact = ((b**2)-(4*a*c))\n",
    "    root1 = (-b - cmath.sqrt(decision_fact)) / (2*a)\n",
    "    root2 = (-b + cmath.sqrt(decision_fact)) / (2*a)\n",
    "    if decision_fact < 0:\n",
    "        print (\"roots are complex and root 1 = \", root1, \"root2 = \", root2)\n",
    "    elif decision_fact == 0:\n",
    "        print(\"roots are equal and root 1 = \", root1, \"root2 = \", root2)\n",
    "    else:\n",
    "        print(\"roots are real and root 1 = \", root1, \"root2 = \", root2)\n",
    "quadeqn(1,1,1)"
   ]
  },
  {
   "cell_type": "code",
   "execution_count": 6,
   "metadata": {},
   "outputs": [
    {
     "data": {
      "text/plain": [
       "(1, 2)"
      ]
     },
     "execution_count": 6,
     "metadata": {},
     "output_type": "execute_result"
    }
   ],
   "source": [
    "#Write a Python program to swap two variables without temp variable?\n",
    "a=2\n",
    "b=1\n",
    "a,b=b,a\n",
    "a,b"
   ]
  },
  {
   "cell_type": "code",
   "execution_count": null,
   "metadata": {},
   "outputs": [],
   "source": []
  }
 ],
 "metadata": {
  "kernelspec": {
   "display_name": "Python 3",
   "language": "python",
   "name": "python3"
  },
  "language_info": {
   "codemirror_mode": {
    "name": "ipython",
    "version": 3
   },
   "file_extension": ".py",
   "mimetype": "text/x-python",
   "name": "python",
   "nbconvert_exporter": "python",
   "pygments_lexer": "ipython3",
   "version": "3.8.5"
  }
 },
 "nbformat": 4,
 "nbformat_minor": 4
}
