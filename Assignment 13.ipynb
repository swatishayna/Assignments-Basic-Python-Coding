{
 "cells": [
  {
   "cell_type": "raw",
   "metadata": {},
   "source": [
    "Question 1:\n",
    "\n",
    "Write a program that calculates and prints the value according to the given formula:\n",
    "\n",
    "Q = Square root of [(2 * C * D)/H]\n",
    "\n",
    "Following are the fixed values of C and H:\n",
    "\n",
    "C is 50. H is 30.\n",
    "\n",
    "D is the variable whose values should be input to your program in a comma-separated sequence.\n",
    "\n",
    "Example\n",
    "\n",
    "Let us assume the following comma separated input sequence is given to the program:\n",
    "\n",
    "100,150,180\n",
    "\n",
    "The output of the program should be:\n",
    "\n",
    "18,22,24\n"
   ]
  },
  {
   "cell_type": "code",
   "execution_count": 1,
   "metadata": {},
   "outputs": [
    {
     "data": {
      "text/plain": [
       "[18, 22, 24]"
      ]
     },
     "execution_count": 1,
     "metadata": {},
     "output_type": "execute_result"
    }
   ],
   "source": [
    "def function1(*args):\n",
    "    import math\n",
    "    C = 50\n",
    "    H = 30\n",
    "    l = []\n",
    "    for i in args:\n",
    "        if type(i) == int and i > 0:\n",
    "                D = i\n",
    "                Q = (2 * C * D)/H\n",
    "                Q = math.sqrt(Q)\n",
    "                \n",
    "                l.append(int(Q))\n",
    "                \n",
    "        else:\n",
    "            return \"ALL INPUT SHOULD BE Positive INTEGER only\"\n",
    "    return l\n",
    "function1(100,150,180)"
   ]
  },
  {
   "cell_type": "raw",
   "metadata": {},
   "source": [
    "Question 2:\n",
    "Write a program which takes 2 digits, X,Y as input and generates a 2-dimensional array. The element value in the i-th row and j-th column of the array should be i*j.\n",
    "\n",
    "Note: i=0,1.., X-1; j=0,1,¡¬Y-1.\n",
    "\n",
    "Example\n",
    "\n",
    "Suppose the following inputs are given to the program:\n",
    "\n",
    "3,5\n",
    "\n",
    "Then, the output of the program should be:\n",
    "\n",
    "[[0, 0, 0, 0, 0], [0, 1, 2, 3, 4], [0, 2, 4, 6, 8]] \n"
   ]
  },
  {
   "cell_type": "code",
   "execution_count": null,
   "metadata": {},
   "outputs": [],
   "source": [
    "x =int(input(\"Enter row number\"))\n",
    "y =int(input(\"Enter column number\"))\n",
    "l = []\n",
    "for i in range(x):\n",
    "    l1 = []\n",
    "    for j in range(y):\n",
    "        item = i * j\n",
    "        l1.append(item)\n",
    "    l.append(l1)\n",
    "    \n",
    "import numpy as np\n",
    "arr = np.array(l)\n",
    "arr.reshape(x,y)"
   ]
  },
  {
   "cell_type": "raw",
   "metadata": {},
   "source": [
    "Question 3:\n",
    "Write a program that accepts a comma separated sequence of words as input and prints the words in a comma-separated sequence after sorting them alphabetically.\n",
    "\n",
    "Suppose the following input is supplied to the program:\n",
    "\n",
    "without,hello,bag,world\n",
    "\n",
    "Then, the output should be:\n",
    "\n",
    "bag,hello,without,world\n"
   ]
  },
  {
   "cell_type": "code",
   "execution_count": null,
   "metadata": {},
   "outputs": [],
   "source": [
    "string1 = \"without,hello,bag,world\"\n",
    "l = list(string1.split(\",\"))\n",
    "l.sort()\n",
    "output = \"\"\n",
    "for i in l:\n",
    "    output = output + i + \",\"\n",
    "output "
   ]
  },
  {
   "cell_type": "raw",
   "metadata": {},
   "source": [
    "Question 4:\n",
    "Write a program that accepts a sequence of whitespace separated words as input and prints the words after removing all duplicate words and sorting them alphanumerically.\n",
    "\n",
    "Suppose the following input is supplied to the program:\n",
    "\n",
    "hello world and practice makes perfect and hello world again\n",
    "\n",
    "Then, the output should be:\n",
    "\n",
    "again and hello makes perfect practice world\n"
   ]
  },
  {
   "cell_type": "code",
   "execution_count": null,
   "metadata": {},
   "outputs": [],
   "source": [
    "string1 = \"hello world and practice makes perfect and hello world again\"\n",
    "s = set(string1.split(\" \"))\n",
    "l = list(s)\n",
    "l.sort()\n",
    "output = \"\"\n",
    "for i in l:\n",
    "    output = output + i + \" \"\n",
    "output"
   ]
  },
  {
   "cell_type": "raw",
   "metadata": {},
   "source": [
    "Question 5:\n",
    "Write a program that accepts a sentence and calculate the number of letters and digits.\n",
    "\n",
    "Suppose the following input is supplied to the program:\n",
    "\n",
    "hello world! 123\n",
    "\n",
    "Then, the output should be:\n",
    "\n",
    "LETTERS 10\n",
    "\n",
    "DIGITS 3\n"
   ]
  },
  {
   "cell_type": "code",
   "execution_count": null,
   "metadata": {},
   "outputs": [],
   "source": [
    "string = \"hello world! 123\"\n",
    "LETTERS = 0\n",
    "DIGITS  = 0\n",
    "for i in string:\n",
    "    if i.isalpha() :\n",
    "        LETTERS = LETTERS + 1\n",
    "    elif i.isdigit():\n",
    "        DIGITS  = DIGITS + 1\n",
    "    else:\n",
    "        pass\n",
    "LETTERS, DIGITS"
   ]
  },
  {
   "cell_type": "raw",
   "metadata": {},
   "source": [
    "Question 6:\n",
    "A website requires the users to input username and password to register. Write a program to check the validity of password input by users.\n",
    "\n",
    "Following are the criteria for checking the password:\n",
    "\n",
    "1. At least 1 letter between [a-z]\n",
    "\n",
    "2. At least 1 number between [0-9]\n",
    "\n",
    "1. At least 1 letter between [A-Z]\n",
    "\n",
    "3. At least 1 character from [$#@]\n",
    "\n",
    "4. Minimum length of transaction password: 6\n",
    "\n",
    "5. Maximum length of transaction password: 12\n",
    "\n",
    "Your program should accept a sequence of comma separated passwords and will check them according to the above criteria. Passwords that match the criteria are to be printed, each separated by a comma.\n",
    "\n",
    "Example\n",
    "\n",
    "If the following passwords are given as input to the program:\n",
    "\n",
    "ABd1234@1,a F1#,2w3E*,2We3345\n",
    "\n",
    "Then, the output of the program should be:\n",
    "\n",
    "ABd1234@1\n"
   ]
  },
  {
   "cell_type": "code",
   "execution_count": null,
   "metadata": {},
   "outputs": [],
   "source": [
    "import re\n",
    "s = \"ABd1234@1,a F1#,2w3E*,2We3345\"\n",
    "l = list(s.split(\",\"))\n",
    "\n",
    "\n",
    "for password in l:\n",
    "    flag = 0\n",
    "    \n",
    "    while True:  \n",
    "        if len(password)  <= 6 or len(password) >= 12:\n",
    "            flag = -1\n",
    "            break\n",
    "        elif not re.search(\"[a-z]\", password):\n",
    "            flag = -1\n",
    "            break\n",
    "        elif not re.search(\"[A-Z]\", password):\n",
    "            flag = -1\n",
    "            break\n",
    "        elif not re.search(\"[0-9]\", password):\n",
    "            flag = -1\n",
    "            break\n",
    "        elif not re.search(\"[#@$]\", password):\n",
    "            flag = -1\n",
    "            break\n",
    "        else:\n",
    "            flag = 0\n",
    "            print(\"Valid Password\", password)\n",
    "            break\n",
    "\n",
    "    "
   ]
  },
  {
   "cell_type": "code",
   "execution_count": null,
   "metadata": {},
   "outputs": [],
   "source": []
  }
 ],
 "metadata": {
  "kernelspec": {
   "display_name": "Python 3",
   "language": "python",
   "name": "python3"
  },
  "language_info": {
   "codemirror_mode": {
    "name": "ipython",
    "version": 3
   },
   "file_extension": ".py",
   "mimetype": "text/x-python",
   "name": "python",
   "nbconvert_exporter": "python",
   "pygments_lexer": "ipython3",
   "version": "3.8.5"
  }
 },
 "nbformat": 4,
 "nbformat_minor": 4
}
