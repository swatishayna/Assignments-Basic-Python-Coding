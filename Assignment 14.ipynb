{
 "cells": [
  {
   "cell_type": "raw",
   "metadata": {},
   "source": [
    "Define a class with a generator which can iterate the numbers, which are divisible by 7, \n",
    "between a given range 0 and n."
   ]
  },
  {
   "cell_type": "code",
   "execution_count": 66,
   "metadata": {},
   "outputs": [
    {
     "name": "stdout",
     "output_type": "stream",
     "text": [
      "7\n",
      "14\n",
      "21\n",
      "28\n",
      "35\n",
      "42\n",
      "49\n",
      "56\n",
      "63\n",
      "70\n",
      "77\n",
      "84\n",
      "91\n",
      "98\n"
     ]
    }
   ],
   "source": [
    "def genseven(n):\n",
    "    for i in range(1,n):\n",
    "        if i%7 == 0:\n",
    "            yield i\n",
    "    \n",
    "\n",
    "for j in genseven(100):\n",
    "    print(j)"
   ]
  },
  {
   "cell_type": "code",
   "execution_count": 3,
   "metadata": {},
   "outputs": [
    {
     "data": {
      "text/plain": [
       "<generator object genseven at 0x000002702122E350>"
      ]
     },
     "execution_count": 3,
     "metadata": {},
     "output_type": "execute_result"
    }
   ],
   "source": [
    "genseven(100)"
   ]
  },
  {
   "cell_type": "raw",
   "metadata": {},
   "source": [
    "Write a program to compute the frequency of the words from the input. \n",
    "The output should output after sorting the key alphanumerically. \n",
    "Suppose the following input is supplied to the program:\n",
    "\n",
    "New to Python or choosing between Python 2 and Python 3? Read Python 2 or Python 3.\n",
    "\n",
    "Then, the output should be:\n",
    "2:2\n",
    "3.:1\n",
    "3?:1\n",
    "New:1\n",
    "Python:5\n",
    "Read:1\n",
    "and:1\n",
    "between:1\n",
    "choosing:1\n",
    "or:2\n",
    "to:1"
   ]
  },
  {
   "cell_type": "code",
   "execution_count": 4,
   "metadata": {},
   "outputs": [
    {
     "name": "stdout",
     "output_type": "stream",
     "text": [
      "and : 1 or : 2 to : 1 New : 1 choosing : 1 3. : 1 3? : 1 Read : 1 between : 1 Python : 5 2 : 2 "
     ]
    }
   ],
   "source": [
    "s = \"New to Python or choosing between Python 2 and Python 3? Read Python 2 or Python 3.\"\n",
    "l = list(s.split(\" \"))\n",
    "s = set(l)\n",
    "\n",
    "for i in s:\n",
    "    print(i,\":\",l.count(i), end = \" \")\n",
    "    "
   ]
  },
  {
   "cell_type": "raw",
   "metadata": {},
   "source": [
    "Define a class Person and its two child classes: Male and Female. All classes have a method \"getGender\" which can print \"Male\" for Male class and \"Female\" for Female class."
   ]
  },
  {
   "cell_type": "code",
   "execution_count": 27,
   "metadata": {},
   "outputs": [
    {
     "name": "stdout",
     "output_type": "stream",
     "text": [
      "Female\n",
      "Male\n"
     ]
    },
    {
     "data": {
      "text/plain": [
       "(None, None)"
      ]
     },
     "execution_count": 27,
     "metadata": {},
     "output_type": "execute_result"
    }
   ],
   "source": [
    "class Person:\n",
    "    def getGender(self,gender):\n",
    "        \n",
    "        print(gender)\n",
    "class Male(Person):\n",
    "    def getGender(self):\n",
    "        gender = \"Male\"\n",
    "        super().getGender(gender)\n",
    "class Female(Person):\n",
    "    def getGender(self):\n",
    "        gender = \"Female\"\n",
    "        super().getGender(gender)\n",
    "       \n",
    "f1 = Female()\n",
    "m1 = Male()\n",
    "f1.getGender(), m1.getGender()\n"
   ]
  },
  {
   "cell_type": "raw",
   "metadata": {},
   "source": [
    "Please write a program to generate all sentences where subject is in [\"I\", \"You\"] and verb is in [\"Play\", \"Love\"] and the object is in [\"Hockey\",\"Football\"]."
   ]
  },
  {
   "cell_type": "code",
   "execution_count": null,
   "metadata": {},
   "outputs": [],
   "source": [
    "subject = [\"I\", \"You\"] \n",
    "verb = [\"Play\", \"Love\"] \n",
    "obj = [\"Hockey\",\"Football\"]\n",
    "\n",
    "for i in subject:\n",
    "    for j in verb:\n",
    "        for k in obj:\n",
    "            print(i,j,k)\n"
   ]
  },
  {
   "cell_type": "raw",
   "metadata": {},
   "source": [
    "Please write a program to compress and decompress the string \"hello world!hello world!hello world!hello world!\"."
   ]
  },
  {
   "cell_type": "code",
   "execution_count": 3,
   "metadata": {},
   "outputs": [
    {
     "name": "stdout",
     "output_type": "stream",
     "text": [
      "h4e4l12o8w4r4d4!4g\n"
     ]
    }
   ],
   "source": [
    "a = \"hello world!hello world!hello world!hello worgld!\".replace(\" \",\"\")\n",
    "\n",
    "b = \"\"\n",
    "\n",
    "for i in a:\n",
    "    if i in b:\n",
    "        pass\n",
    "    else:\n",
    "        temp = a.count(i)\n",
    "        if temp > 1:\n",
    "            b = b + i + str(temp)\n",
    "        else:\n",
    "            b = b + i\n",
    "print(b)\n",
    "\n",
    "\n",
    "    \n",
    "            \n"
   ]
  },
  {
   "cell_type": "code",
   "execution_count": 70,
   "metadata": {},
   "outputs": [
    {
     "name": "stdout",
     "output_type": "stream",
     "text": [
      "b'\\x1f\\x8b\\x08\\x00<\\x16\\x9d`\\x02\\xff\\xcbH\\xcd\\xc9\\xc9W(\\xcf/\\xcaIQ\\xcc \\xc4N\\x07r\\x00\\xa2\\xde\\x03\\xd51\\x00\\x00\\x00'\n",
      "b'hello world!hello world!hello world!hello worgld!'\n"
     ]
    }
   ],
   "source": [
    "\n",
    "import gzip\n",
    "s = b\"hello world!hello world!hello world!hello worgld!\"\n",
    "s = gzip.compress(s)\n",
    "  \n",
    "\n",
    "t = gzip.decompress(s)\n",
    "print(s, t , sep = \"\\n\")"
   ]
  },
  {
   "cell_type": "raw",
   "metadata": {},
   "source": [
    "Please write a binary search function which searches an item in a sorted list. \n",
    "The function should return the index of element to be searched in the list.\n"
   ]
  },
  {
   "cell_type": "code",
   "execution_count": 65,
   "metadata": {},
   "outputs": [
    {
     "data": {
      "text/plain": [
       "'index : 2'"
      ]
     },
     "execution_count": 65,
     "metadata": {},
     "output_type": "execute_result"
    }
   ],
   "source": [
    "l = [11,22,33,44,55,66,77]\n",
    "\n",
    "def binarySearch(l,first,last ,item):\n",
    "    \n",
    "    if last >= first and item in l:\n",
    "        mid = (last + first)//2\n",
    "        \n",
    "        if l[mid] == item:\n",
    "            return \"index : \" + str(mid)\n",
    "        \n",
    "        elif l[mid] > item:\n",
    "            return binarySearch(l, first , mid-1, item)\n",
    "        \n",
    "        else:\n",
    "            return binarySearch(l, mid+1 , last, item)\n",
    "\n",
    "    else:\n",
    "        return \"Item Not found\"\n",
    "    \n",
    "binarySearch(l, 0, len(l)-1,33)   "
   ]
  }
 ],
 "metadata": {
  "kernelspec": {
   "display_name": "Python 3",
   "language": "python",
   "name": "python3"
  },
  "language_info": {
   "codemirror_mode": {
    "name": "ipython",
    "version": 3
   },
   "file_extension": ".py",
   "mimetype": "text/x-python",
   "name": "python",
   "nbconvert_exporter": "python",
   "pygments_lexer": "ipython3",
   "version": "3.8.5"
  }
 },
 "nbformat": 4,
 "nbformat_minor": 4
}
