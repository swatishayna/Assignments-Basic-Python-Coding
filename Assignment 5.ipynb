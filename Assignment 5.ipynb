{
 "cells": [
  {
   "cell_type": "markdown",
   "metadata": {},
   "source": [
    "1.\tWrite a Python Program to Find LCM?\n",
    "2.\tWrite a Python Program to Find HCF?\n",
    "3.\tWrite a Python Program to Convert Decimal to Binary, Octal and Hexadecimal?\n",
    "4.\tWrite a Python Program To Find ASCII value of a character?\n",
    "5.\tWrite a Python Program to Make a Simple Calculator with 4 basic mathematical operations?\n"
   ]
  },
  {
   "cell_type": "code",
   "execution_count": 7,
   "metadata": {},
   "outputs": [],
   "source": [
    "#Write a Python Program to Find LCM?\n",
    "def lcm(x,y):\n",
    "    if x>y:\n",
    "            z=x\n",
    "    else:\n",
    "            z=y\n",
    "    while(True):\n",
    "        if ((z % x == 0 ) and (z % y == 0)):\n",
    "            lcm = z\n",
    "            break\n",
    "        \n",
    "        z=z+1\n",
    "    return lcm\n",
    "\n",
    "lcm(60,120)            "
   ]
  },
  {
   "cell_type": "code",
   "execution_count": 12,
   "metadata": {},
   "outputs": [
    {
     "data": {
      "text/plain": [
       "12"
      ]
     },
     "execution_count": 12,
     "metadata": {},
     "output_type": "execute_result"
    }
   ],
   "source": [
    "#Write a Python Program to Find HCF?\n",
    "def hcf(x,y):\n",
    "    if x<y:\n",
    "        z=x\n",
    "    else:\n",
    "        z=y\n",
    "    for i in range(1,z + 1):  \n",
    "        if((x % i == 0) and (y % i == 0)):  \n",
    "            hcf = i  \n",
    "    return hcf  \n",
    "hcf(12,24)"
   ]
  },
  {
   "cell_type": "code",
   "execution_count": 16,
   "metadata": {},
   "outputs": [
    {
     "name": "stdout",
     "output_type": "stream",
     "text": [
      "input first number here: 12\n",
      "input second number here: 24\n",
      "The hcf of 12 and 24 is 12\n"
     ]
    }
   ],
   "source": [
    "#Write a Python Program to Find HCF?\n",
    "import math\n",
    "num1 = int(input(\"input first number here: \"))\n",
    "num2 = int(input(\"input second number here: \"))\n",
    "print(\"The hcf of\" , num1, \"and\", num2, \"is\",math.gcd(num1,num2))\n"
   ]
  },
  {
   "cell_type": "code",
   "execution_count": 17,
   "metadata": {},
   "outputs": [
    {
     "name": "stdout",
     "output_type": "stream",
     "text": [
      "input decimal number here: 344\n",
      " the decimal number 344 in binary is 0b101011000\n",
      " the decimal number 344 in octal is 0o530\n",
      " the decimal number 344 in hexadecimal is 0x158\n"
     ]
    }
   ],
   "source": [
    "#Write a Python Program to Convert Decimal to Binary, Octal and Hexadecimal?\n",
    "num = int(input(\"input decimal number here: \"))\n",
    "print(\" the decimal number\",num,\"in binary is\", bin(num))\n",
    "print(\" the decimal number\",num,\"in octal is\", oct(num))\n",
    "print(\" the decimal number\",num,\"in hexadecimal is\", hex(num))"
   ]
  },
  {
   "cell_type": "code",
   "execution_count": 20,
   "metadata": {},
   "outputs": [
    {
     "data": {
      "text/plain": [
       "65"
      ]
     },
     "execution_count": 20,
     "metadata": {},
     "output_type": "execute_result"
    }
   ],
   "source": [
    "# Write a Python Program To Find ASCII value of a character?\n",
    "ord(\"A\")"
   ]
  },
  {
   "cell_type": "code",
   "execution_count": 23,
   "metadata": {},
   "outputs": [
    {
     "name": "stdout",
     "output_type": "stream",
     "text": [
      "choose from + - / * +\n",
      "input first number here: 12\n",
      "input second number here: 13\n",
      "25\n"
     ]
    }
   ],
   "source": [
    "#Write a Python Program to Make a Simple Calculator with 4 basic mathematical operations?\n",
    "choose = input(\"choose from + - / * \")\n",
    "num1 = int(input(\"input first number here: \"))\n",
    "num2 = int(input(\"input second number here: \"))\n",
    "cal=0\n",
    "if choose == \"+\":\n",
    "    cal=num1+num2\n",
    "elif choose == \"-\":\n",
    "    cal=num1-num2\n",
    "elif choose == \"*\": \n",
    "    cal=num1*num2\n",
    "else:\n",
    "    cal=num1/num2\n",
    "print(cal)"
   ]
  },
  {
   "cell_type": "code",
   "execution_count": null,
   "metadata": {},
   "outputs": [],
   "source": []
  }
 ],
 "metadata": {
  "kernelspec": {
   "display_name": "Python 3",
   "language": "python",
   "name": "python3"
  },
  "language_info": {
   "codemirror_mode": {
    "name": "ipython",
    "version": 3
   },
   "file_extension": ".py",
   "mimetype": "text/x-python",
   "name": "python",
   "nbconvert_exporter": "python",
   "pygments_lexer": "ipython3",
   "version": "3.8.5"
  }
 },
 "nbformat": 4,
 "nbformat_minor": 4
}
