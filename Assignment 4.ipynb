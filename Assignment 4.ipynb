{
 "cells": [
  {
   "cell_type": "markdown",
   "metadata": {},
   "source": [
    "1.\tWrite a Python Program to Find the Factorial of a Number?\n",
    "2.\tWrite a Python Program to Display the multiplication Table?\n",
    "3.\tWrite a Python Program to Print the Fibonacci sequence?\n",
    "4.\tWrite a Python Program to Check Armstrong Number?\n",
    "5.\tWrite a Python Program to Find Armstrong Number in an Interval?\n",
    "6.\tWrite a Python Program to Find the Sum of Natural Numbers?\n"
   ]
  },
  {
   "cell_type": "code",
   "execution_count": 1,
   "metadata": {},
   "outputs": [
    {
     "name": "stdout",
     "output_type": "stream",
     "text": [
      "Enter integer value here: 5\n",
      "factorial of  5 is  120\n"
     ]
    }
   ],
   "source": [
    "#Write a Python Program to Find the Factorial of a Number?\n",
    "n=int(input(\"Enter integer value here: \"))\n",
    "fact = 1\n",
    "if n > 0:\n",
    "    for i in range(n,0,-1):\n",
    "        fact = fact * i\n",
    "    print(\"factorial of \", n, \"is \", fact)\n",
    "else:\n",
    "    print(\"invalid number for factorial\")"
   ]
  },
  {
   "cell_type": "code",
   "execution_count": 2,
   "metadata": {},
   "outputs": [
    {
     "name": "stdout",
     "output_type": "stream",
     "text": [
      "Enter integer value here: 11\n",
      "11 is to 1 is 11\n",
      "11 is to 2 is 22\n",
      "11 is to 3 is 33\n",
      "11 is to 4 is 44\n",
      "11 is to 5 is 55\n",
      "11 is to 6 is 66\n",
      "11 is to 7 is 77\n",
      "11 is to 8 is 88\n",
      "11 is to 9 is 99\n",
      "11 is to 10 is 110\n",
      "11 is to 11 is 121\n",
      "11 is to 12 is 132\n",
      "11 is to 13 is 143\n",
      "11 is to 14 is 154\n",
      "11 is to 15 is 165\n",
      "11 is to 16 is 176\n",
      "11 is to 17 is 187\n",
      "11 is to 18 is 198\n",
      "11 is to 19 is 209\n",
      "11 is to 20 is 220\n"
     ]
    }
   ],
   "source": [
    "#Write a Python Program to Display the multiplication Table?\n",
    "n=int(input(\"Enter integer value here: \"))\n",
    "if n>0:\n",
    "    for i in range(1,21):\n",
    "        table=n*i\n",
    "        print(n, \"is to\", i, \"is\", table)\n",
    "else:\n",
    "    print(\"Enter valid number, try again\")"
   ]
  },
  {
   "cell_type": "code",
   "execution_count": 3,
   "metadata": {},
   "outputs": [
    {
     "name": "stdout",
     "output_type": "stream",
     "text": [
      "Enter integer value here: 11\n",
      "[1, 1, 2, 3, 5, 8, 13, 21, 34, 55, 89]\n"
     ]
    }
   ],
   "source": [
    "#Write a Python Program to Print the Fibonacci sequence?\n",
    "n=int(input(\"Enter integer value here: \"))\n",
    "num1=0\n",
    "num2=1\n",
    "sequence =0\n",
    "l=[]\n",
    "for i in range(0,n):\n",
    "    num1 = num2\n",
    "    num2 = sequence\n",
    "    sequence = num1 + num2\n",
    "    l.append(sequence)\n",
    "print(l)    \n"
   ]
  },
  {
   "cell_type": "code",
   "execution_count": 4,
   "metadata": {},
   "outputs": [
    {
     "name": "stdout",
     "output_type": "stream",
     "text": [
      "Enter integer value here: 153\n",
      "153 is armstrong\n"
     ]
    }
   ],
   "source": [
    "#Write a Python Program to Find Armstrong Number in an Interval?\n",
    "n=input(\"Enter integer value here: \")\n",
    "l=list(n)\n",
    "m=0\n",
    "for i in l:\n",
    "    i=int(i)\n",
    "    m=m+i**3\n",
    "if m==int(n):\n",
    "    print(n,\"is armstrong\")\n",
    "else:\n",
    "    print(n,\"isnt armstrong\")"
   ]
  },
  {
   "cell_type": "code",
   "execution_count": 6,
   "metadata": {},
   "outputs": [
    {
     "name": "stdout",
     "output_type": "stream",
     "text": [
      "Enter integer value here: 2\n",
      "3\n"
     ]
    }
   ],
   "source": [
    "#Write a Python Program to Find the Sum of Natural Numbers?\n",
    "n=int(input(\"Enter integer value here: \"))\n",
    "sum=0\n",
    "if n>0:\n",
    "    for i in range(0,n+1):\n",
    "        sum=sum+i\n",
    "    print(sum)\n",
    "else:\n",
    "    print(n, \"is not a natural number\")"
   ]
  },
  {
   "cell_type": "code",
   "execution_count": null,
   "metadata": {},
   "outputs": [],
   "source": []
  },
  {
   "cell_type": "code",
   "execution_count": null,
   "metadata": {},
   "outputs": [],
   "source": []
  }
 ],
 "metadata": {
  "kernelspec": {
   "display_name": "Python 3",
   "language": "python",
   "name": "python3"
  },
  "language_info": {
   "codemirror_mode": {
    "name": "ipython",
    "version": 3
   },
   "file_extension": ".py",
   "mimetype": "text/x-python",
   "name": "python",
   "nbconvert_exporter": "python",
   "pygments_lexer": "ipython3",
   "version": "3.8.5"
  }
 },
 "nbformat": 4,
 "nbformat_minor": 4
}
