{
 "cells": [
  {
   "cell_type": "markdown",
   "metadata": {},
   "source": [
    "1.\tWrite a Python Program to find sum of array?\n",
    "2.\tWrite a Python Program to find largest element in an array?\n",
    "3.\tWrite a Python Program for array rotation?\n",
    "4.\tWrite a Python Program to Split the array and add the first part to the end?\n",
    "5.\tWrite a Python Program to check if given array is Monotonic?\n"
   ]
  },
  {
   "cell_type": "code",
   "execution_count": 1,
   "metadata": {},
   "outputs": [],
   "source": [
    "import numpy as np"
   ]
  },
  {
   "cell_type": "code",
   "execution_count": 2,
   "metadata": {},
   "outputs": [
    {
     "data": {
      "text/plain": [
       "array([94, 82, 33, 68, 44, 27, 73, 53, 81, 11])"
      ]
     },
     "execution_count": 2,
     "metadata": {},
     "output_type": "execute_result"
    }
   ],
   "source": [
    "\n",
    "arr1 = np.random.randint(0,100,10)\n",
    "arr1"
   ]
  },
  {
   "cell_type": "code",
   "execution_count": 3,
   "metadata": {},
   "outputs": [
    {
     "name": "stdout",
     "output_type": "stream",
     "text": [
      "the sum of arr1 is 566\n"
     ]
    }
   ],
   "source": [
    "#Write a Python Program to find sum of array\n",
    "sum=0\n",
    "for i in range(len(arr1)):\n",
    "    sum=sum+arr1[i]\n",
    "print(\"the sum of arr1 is\",sum)    "
   ]
  },
  {
   "cell_type": "code",
   "execution_count": 4,
   "metadata": {},
   "outputs": [
    {
     "data": {
      "text/plain": [
       "94"
      ]
     },
     "execution_count": 4,
     "metadata": {},
     "output_type": "execute_result"
    }
   ],
   "source": [
    "#Write a Python Program to find largest element in an array?\n",
    "arr1.max()"
   ]
  },
  {
   "cell_type": "code",
   "execution_count": 5,
   "metadata": {},
   "outputs": [
    {
     "data": {
      "text/plain": [
       "array([11, 81, 53, 73, 27, 44, 68, 33, 82, 94])"
      ]
     },
     "execution_count": 5,
     "metadata": {},
     "output_type": "execute_result"
    }
   ],
   "source": [
    "#Write a Python Program for array rotation\n",
    "arr1[::-1]"
   ]
  },
  {
   "cell_type": "code",
   "execution_count": 60,
   "metadata": {},
   "outputs": [
    {
     "data": {
      "text/plain": [
       "array([94, 82, 33, 68, 44, 27, 73, 53, 81, 11])"
      ]
     },
     "execution_count": 60,
     "metadata": {},
     "output_type": "execute_result"
    }
   ],
   "source": [
    "arr2 = arr1.copy()\n",
    "arr2"
   ]
  },
  {
   "cell_type": "code",
   "execution_count": 56,
   "metadata": {},
   "outputs": [
    {
     "name": "stdout",
     "output_type": "stream",
     "text": [
      "Enter start index for slicing here: 3\n",
      "Enter end   index for slicing here: 6\n",
      "[94 82 33 68 44 27 73 53 81 11 68 44 27]\n",
      "[94 82 33 73 53 81 11 68 44 27]\n"
     ]
    }
   ],
   "source": [
    "#Write a Python Program to Split the array and add the first part to the end?\n",
    "start_index = int(input(\"Enter start index for slicing here: \"))\n",
    "end_index   = int(input(\"Enter end   index for slicing here: \"))\n",
    "\n",
    "for i in range(start_index,end_index):\n",
    "    arr2 = np.append(arr2, arr2[i])\n",
    "print(arr2)\n",
    "for i in range(end_index-1,start_index-1,-1):\n",
    "    arr2 = np.delete(arr2, i)\n",
    "print(arr2)    "
   ]
  },
  {
   "cell_type": "code",
   "execution_count": 73,
   "metadata": {},
   "outputs": [
    {
     "name": "stdout",
     "output_type": "stream",
     "text": [
      "Enter start index for slicing here: 5\n",
      "Enter end   index for slicing here: 2\n",
      "[94 82 33 68 44 27 73 53 81 11 68 44 27]\n",
      "[94 82 33 73 53 81 11 68 44 27]\n"
     ]
    }
   ],
   "source": [
    "arr2 = arr1.copy()\n",
    "arr2\n",
    "start_index = int(input(\"Enter start index for slicing here: \"))\n",
    "end_index   = int(input(\"Enter end   index for slicing here: \"))\n",
    "if start_index < end_index:\n",
    "    if start_index >=0 and end_index <= len(arr2):\n",
    "        for i in range(start_index,end_index):\n",
    "            arr2 = np.append(arr2, arr2[i])\n",
    "        print(arr2)\n",
    "        for i in range(end_index-1,start_index-1,-1):\n",
    "            arr2 = np.delete(arr2, i)\n",
    "        print(arr2)  \n",
    "    else:\n",
    "        print(\"Invalid indices entered\")\n",
    "elif start_index > end_index:\n",
    "    if (start_index <=len(arr2) and end_index >= 0):\n",
    "        temp_s = end_index+1\n",
    "        temp_e = start_index+1\n",
    "        start_index = temp_s\n",
    "        end_index = temp_e\n",
    "    \n",
    "        for i in range(start_index,end_index):\n",
    "            arr2 = np.append(arr2, arr2[i])\n",
    "        print(arr2)\n",
    "        for i in range(end_index-1,start_index-1,-1):\n",
    "            arr2 = np.delete(arr2, i)\n",
    "        print(arr2) \n",
    "    else:\n",
    "        print(\"*\")"
   ]
  },
  {
   "cell_type": "code",
   "execution_count": 95,
   "metadata": {},
   "outputs": [
    {
     "name": "stdout",
     "output_type": "stream",
     "text": [
      "Decreasing Monotonic Array\n"
     ]
    }
   ],
   "source": [
    "#Write a Python Program to check if given array is Monotonic?\n",
    "def isMonotonic(array):\n",
    "    if all (array[i]<=array[i+1] for i in range(len(array)-1)): \n",
    "         print(\"Increasing Monotonic\" )\n",
    "    elif all (array[i]>=array[i+1] for i in range(len(array)-1)): \n",
    "         print(\"Decreasing Monotonic Array\")\n",
    "    else:\n",
    "        return(\"Non Monotonic\")\n",
    "isMonotonic([11,10,4,3])"
   ]
  },
  {
   "cell_type": "code",
   "execution_count": null,
   "metadata": {},
   "outputs": [],
   "source": []
  },
  {
   "cell_type": "code",
   "execution_count": null,
   "metadata": {},
   "outputs": [],
   "source": []
  }
 ],
 "metadata": {
  "kernelspec": {
   "display_name": "Python 3",
   "language": "python",
   "name": "python3"
  },
  "language_info": {
   "codemirror_mode": {
    "name": "ipython",
    "version": 3
   },
   "file_extension": ".py",
   "mimetype": "text/x-python",
   "name": "python",
   "nbconvert_exporter": "python",
   "pygments_lexer": "ipython3",
   "version": "3.8.5"
  }
 },
 "nbformat": 4,
 "nbformat_minor": 4
}
