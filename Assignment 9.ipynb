{
 "cells": [
  {
   "cell_type": "markdown",
   "metadata": {},
   "source": [
    "1.\tWrite a Python program to check if the given number is a Disarium Number?\n",
    "2.\tWrite a Python program to print all disarium numbers between 1 to 100?\n",
    "3.\tWrite a Python program to check if the given number is Happy Number?\n",
    "4.\tWrite a Python program to print all happy numbers between 1 and 100?\n",
    "5.\tWrite a Python program to determine whether the given number is a Harshad Number?\n",
    "6.\tWrite a Python program to print all pronic numbers between 1 and 100?\n"
   ]
  },
  {
   "cell_type": "code",
   "execution_count": 49,
   "metadata": {},
   "outputs": [
    {
     "name": "stdout",
     "output_type": "stream",
     "text": [
      "176 isnt a Disarium number\n"
     ]
    }
   ],
   "source": [
    "#Write a Python program to check if the given number is a Disarium Number?\n",
    "def isDisarium(n):\n",
    "    l=list(str(n))\n",
    "    i=0\n",
    "    sum=0\n",
    "    while i<=(len(l)-1):\n",
    "        l[i] = int(l[i])\n",
    "        sum=sum+l[i]**(i+1)\n",
    "        \n",
    "        i=i+1\n",
    "    if sum == n:\n",
    "        print(n,\"is a Disarium number\")\n",
    "    else:\n",
    "        print(n, \"isnt a Disarium number\")\n",
    "isDisarium(176)"
   ]
  },
  {
   "cell_type": "code",
   "execution_count": 50,
   "metadata": {},
   "outputs": [
    {
     "name": "stdout",
     "output_type": "stream",
     "text": [
      "[1, 2, 3, 4, 5, 6, 7, 8, 9, 89]\n"
     ]
    }
   ],
   "source": [
    "#Write a Python program to print all disarium numbers between 1 to 100\n",
    "d=[]\n",
    "for j in range(1,101):\n",
    "    l=list(str(j)) \n",
    "    \n",
    "    \n",
    "    sum=0\n",
    "    i=0\n",
    "    for i in range(len(l)):\n",
    "        l[i] = int(l[i])\n",
    "        sum=sum+l[i]**(i+1)\n",
    "        if sum == j:\n",
    "            d.append(j)\n",
    "            \n",
    "        else:\n",
    "            pass\n",
    "print(d)   \n",
    "        "
   ]
  },
  {
   "cell_type": "code",
   "execution_count": 51,
   "metadata": {},
   "outputs": [],
   "source": [
    "#Write a Python program to check if the given number is Happy Number?\n",
    "def HappyNumber(n):\n",
    "    def sqsum(num):\n",
    "        result = 0\n",
    "        while num>0:\n",
    "            remainder = num%10\n",
    "            result = result+(remainder**2)\n",
    "            num= num // 10 \n",
    "        return result\n",
    "\n",
    "    detect = set()\n",
    "    while sqsum(n) not in detect:\n",
    "        sum1 = sqsum(n)\n",
    "        if sum1==1:\n",
    "            return True\n",
    "        else:\n",
    "            detect.add(sum1)\n",
    "            n=sum1\n",
    "    return False\n",
    "\n",
    "        "
   ]
  },
  {
   "cell_type": "code",
   "execution_count": 52,
   "metadata": {},
   "outputs": [
    {
     "data": {
      "text/plain": [
       "False"
      ]
     },
     "execution_count": 52,
     "metadata": {},
     "output_type": "execute_result"
    }
   ],
   "source": [
    "HappyNumber(2)"
   ]
  },
  {
   "cell_type": "code",
   "execution_count": 53,
   "metadata": {},
   "outputs": [
    {
     "name": "stdout",
     "output_type": "stream",
     "text": [
      "[1, 7, 10, 13, 19, 23, 28, 31, 32, 44, 49, 68, 70, 79, 82, 86, 91, 94, 97]\n"
     ]
    }
   ],
   "source": [
    "#Write a Python program to print all happy numbers between 1 and 100?\n",
    "l=[]\n",
    "for i in range(1,100):\n",
    "    var=HappyNumber(i)\n",
    "    if var==True:\n",
    "        l.append(i)\n",
    "print(l)"
   ]
  },
  {
   "cell_type": "code",
   "execution_count": 54,
   "metadata": {},
   "outputs": [],
   "source": [
    "#Write a Python program to determine whether the given number is a Harshad Number?\n",
    "def isHarshad(n):\n",
    "    def issum(num):\n",
    "        result = 0\n",
    "        while(num>0):\n",
    "            r= num%10\n",
    "            result=result+r\n",
    "            num = num//10\n",
    "        return result\n",
    "    if n%issum(n)==0:\n",
    "        return True\n",
    "    else:\n",
    "        return False"
   ]
  },
  {
   "cell_type": "code",
   "execution_count": 55,
   "metadata": {},
   "outputs": [
    {
     "data": {
      "text/plain": [
       "True"
      ]
     },
     "execution_count": 55,
     "metadata": {},
     "output_type": "execute_result"
    }
   ],
   "source": [
    "isHarshad(100)"
   ]
  },
  {
   "cell_type": "code",
   "execution_count": 56,
   "metadata": {},
   "outputs": [
    {
     "name": "stdout",
     "output_type": "stream",
     "text": [
      "[2, 4, 6, 8, 10, 12, 14, 16, 18, 20, 22, 24, 26, 28, 30, 32, 34, 36, 38, 40, 42, 44, 46, 48, 50, 52, 54, 56, 58, 60, 62, 64, 66, 68, 70, 72, 74, 76, 78, 80, 82, 84, 86, 88, 90, 92, 94, 96, 98]\n"
     ]
    }
   ],
   "source": [
    "#Write a Python program to print all pronic numbers between 1 and 100? #pronic numbers are also known as oblong numbers, heteromecic numbers\n",
    "def isPronic(n):\n",
    "    i=1\n",
    "    while i< n:\n",
    "        if n % (i*(i+1))==0:\n",
    "            return True\n",
    "            break\n",
    "        else:\n",
    "            i+=1\n",
    "    return False\n",
    "l=[]\n",
    "for k in range(1,100):\n",
    "    var = isPronic(k)\n",
    "    if var==True:\n",
    "        l.append(k)\n",
    "    else:\n",
    "        pass\n",
    "print(l)"
   ]
  },
  {
   "cell_type": "code",
   "execution_count": null,
   "metadata": {},
   "outputs": [],
   "source": []
  },
  {
   "cell_type": "code",
   "execution_count": null,
   "metadata": {},
   "outputs": [],
   "source": []
  }
 ],
 "metadata": {
  "kernelspec": {
   "display_name": "Python 3",
   "language": "python",
   "name": "python3"
  },
  "language_info": {
   "codemirror_mode": {
    "name": "ipython",
    "version": 3
   },
   "file_extension": ".py",
   "mimetype": "text/x-python",
   "name": "python",
   "nbconvert_exporter": "python",
   "pygments_lexer": "ipython3",
   "version": "3.8.5"
  }
 },
 "nbformat": 4,
 "nbformat_minor": 4
}
