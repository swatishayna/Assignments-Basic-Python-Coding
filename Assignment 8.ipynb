{
 "cells": [
  {
   "cell_type": "markdown",
   "metadata": {},
   "source": [
    "1.\tWrite a Python Program to Add Two Matrices?\n",
    "2.\tWrite a Python Program to Multiply Two Matrices?\n",
    "3.\tWrite a Python Program to Transpose a Matrix?\n",
    "4.\tWrite a Python Program to Sort Words in Alphabetic Order?\n",
    "5.\tWrite a Python Program to Remove Punctuation From a String?\n"
   ]
  },
  {
   "cell_type": "code",
   "execution_count": 7,
   "metadata": {},
   "outputs": [
    {
     "name": "stdout",
     "output_type": "stream",
     "text": [
      "Enter the number of rows:2\n",
      "Enter the number of column5\n",
      "Enter the number of rows:2\n",
      "Enter the number of column5\n",
      "[[0 1 2 3 4]\n",
      " [5 6 7 8 9]]\n",
      "[[10 11 12 13 14]\n",
      " [15 16 17 18 19]]\n"
     ]
    }
   ],
   "source": [
    "row1 = int(input(\"Enter the number of rows:\"))\n",
    "col1 = int(input(\"Enter the number of column\"))\n",
    "row2 = int(input(\"Enter the number of rows:\"))\n",
    "col2 = int(input(\"Enter the number of column\"))\n",
    "matrix1=np.mat(range(0,10)).reshape(row1,col1)\n",
    "matrix2=np.mat(range(10,20)).reshape(row2,col2)\n",
    "print(matrix1)\n",
    "print(matrix2)"
   ]
  },
  {
   "cell_type": "code",
   "execution_count": 77,
   "metadata": {},
   "outputs": [
    {
     "name": "stdout",
     "output_type": "stream",
     "text": [
      "Enter the number of rows:2\n",
      "Enter the number of column3\n",
      "Enter the number of rows:2\n",
      "Enter the number of column3\n",
      "[[63 62 50]\n",
      " [59  8 91]]\n",
      "[[752 879 512]\n",
      " [625 463 537]]\n",
      "Choose 1or2or3 where\n",
      " 1.Add Two Matrices\n",
      " 2.Multiply Two Matrices\n",
      " 3.Transpose a Matrix\n",
      "3\n",
      "Select 1 or 2\n",
      ": 1.matrix3\n",
      "  2.matrix42\n",
      "matrix after transpose\n",
      " [[752 625]\n",
      " [879 463]\n",
      " [512 537]]\n"
     ]
    }
   ],
   "source": [
    "a = int(input(\"Enter the number of rows:\"))\n",
    "b = int(input(\"Enter the number of column\"))\n",
    "c = int(input(\"Enter the number of rows:\"))\n",
    "d = int(input(\"Enter the number of column\"))\n",
    "total1 = a*b\n",
    "total2 = c*d\n",
    "matrix3=np.random.randint(0,100,total1).reshape(a,b)\n",
    "matrix4=np.random.randint(100,1000,total2).reshape(c,d)\n",
    "matrix3 = np.mat(matrix3)\n",
    "matrix4 = np.mat(matrix4)\n",
    "print(matrix3)\n",
    "print(matrix4)\n",
    "\n",
    "\n",
    "\n",
    "#Write a Python Program to Add Two Matrices?\n",
    "#Write a Python Program to Multiply Two Matrices?\n",
    "#Write a Python Program to Transpose a Matrix?\n",
    "\n",
    "\n",
    "choice = int(input(\"Choose 1or2or3 where\\n 1.Add Two Matrices\\n 2.Multiply Two Matrices\\n 3.Transpose a Matrix\\n\"))\n",
    "if choice == 1:\n",
    "    if a==c and b==d:\n",
    "        print(\"Addition is possible\")\n",
    "        sum = 0\n",
    "        sum = matrix3 + matrix4\n",
    "        sum = np.mat(sum)\n",
    "        print(\" Matrix after adding matrix3 and matrix4 is\\n\", sum)\n",
    "    else:\n",
    "        print(\"Invalid dimensions of the two matrix, for addition of matrices it is required to have rows and columns of matrix3 should be equal to rows and columns of matrix 4\")\n",
    "if choice == 2:\n",
    "    if b==c:\n",
    "        print(\"Multiplication is possible\")\n",
    "        multipliedvalue = matrix3 * matrix4\n",
    "        multipliedvalue = np.mat(multipliedvalue)\n",
    "        \n",
    "        print(\"Matrix after multiplication is\", multipliedvalue)\n",
    "    else:\n",
    "        print(\"Multiplication is not possible: For multiplication of matrix:\\n number of columns of matrix3 should be equal to number of rows of matrix4\")\n",
    "if choice ==3:\n",
    "    select = int(input(\"Select 1 or 2\\n: 1.matrix3\\n  2.matrix4\"))\n",
    "    if select == 1:\n",
    "        newmatrix = np.transpose(matrix3)\n",
    "        print(\"matrix after transpose\\n\",newmatrix)\n",
    "    elif select ==2:\n",
    "        newmatrix = np.transpose(matrix4)\n",
    "        print(\"matrix after transpose\\n\",newmatrix)\n",
    "    else:\n",
    "        print(\"invalid selection, try again\")\n",
    "    "
   ]
  },
  {
   "cell_type": "code",
   "execution_count": 120,
   "metadata": {},
   "outputs": [
    {
     "name": "stdout",
     "output_type": "stream",
     "text": [
      "['machine', 'learning', ',,,is', 'a', 'branch', 'of', 'artificial', 'intelligence', 'focused', 'on', 'building', 'applications', 'that', 'learn', 'from', 'data', 'and', 'improve', 'their', 'accuracy', 'over', 'time', 'without', 'being', 'programmed', 'to', 'do', 'so.', 'in', 'data', 'science,', 'an', 'algorithm', 'is', 'a', 'sequence', 'of', 'statistical', 'processing', 'steps.']\n",
      "\n",
      "sorted list is\n",
      " [',,,is', 'a', 'a', 'accuracy', 'algorithm', 'an', 'and', 'applications', 'artificial', 'being', 'branch', 'building', 'data', 'data', 'do', 'focused', 'from', 'improve', 'in', 'intelligence', 'is', 'learn', 'learning', 'machine', 'of', 'of', 'on', 'over', 'processing', 'programmed', 'science,', 'sequence', 'so.', 'statistical', 'steps.', 'that', 'their', 'time', 'to', 'without']\n"
     ]
    }
   ],
   "source": [
    "para = \"Machine learning ,,,is a branch of artificial intelligence focused on building applications that learn from data and improve their accuracy over time without being programmed to do so. In data science, an algorithm is a sequence of statistical processing steps.\"\n",
    "para=para.lower()\n",
    "l=list(para.split())\n",
    "print(l)\n",
    "l.sort()\n",
    "print(\"\\nsorted list is\\n\",l)"
   ]
  },
  {
   "cell_type": "code",
   "execution_count": 131,
   "metadata": {},
   "outputs": [
    {
     "data": {
      "text/plain": [
       "'machine learning is a branch of artificial intelligence focused on building applications that learn from data and improve their accuracy over time without being programmed to do so in data science an algorithm is a sequence of statistical processing steps'"
      ]
     },
     "execution_count": 131,
     "metadata": {},
     "output_type": "execute_result"
    }
   ],
   "source": [
    "#Write a Python Program to Remove Punctuation From a String\n",
    "para=para.replace(\",\",\"\")\n",
    "para=para.replace(\".\",\"\")\n",
    "para"
   ]
  },
  {
   "cell_type": "code",
   "execution_count": null,
   "metadata": {},
   "outputs": [],
   "source": []
  }
 ],
 "metadata": {
  "kernelspec": {
   "display_name": "Python 3",
   "language": "python",
   "name": "python3"
  },
  "language_info": {
   "codemirror_mode": {
    "name": "ipython",
    "version": 3
   },
   "file_extension": ".py",
   "mimetype": "text/x-python",
   "name": "python",
   "nbconvert_exporter": "python",
   "pygments_lexer": "ipython3",
   "version": "3.8.5"
  }
 },
 "nbformat": 4,
 "nbformat_minor": 4
}
