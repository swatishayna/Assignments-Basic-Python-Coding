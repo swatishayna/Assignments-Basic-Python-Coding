{
 "cells": [
  {
   "cell_type": "markdown",
   "metadata": {},
   "source": [
    "1.\tWrite a Python Program to Display Fibonacci Sequence Using Recursion?\n",
    "2.\tWrite a Python Program to Find Factorial of Number Using Recursion?\n",
    "3.\tWrite a Python Program to calculate your Body Mass Index?\n",
    "4.\tWrite a Python Program to calculate the natural logarithm of any number?\n",
    "5.\tWrite a Python Program for cube sum of first n natural numbers?\n"
   ]
  },
  {
   "cell_type": "code",
   "execution_count": 8,
   "metadata": {},
   "outputs": [
    {
     "name": "stdout",
     "output_type": "stream",
     "text": [
      "0\n",
      "1\n",
      "1\n",
      "2\n",
      "3\n",
      "5\n",
      "8\n",
      "13\n",
      "21\n",
      "34\n"
     ]
    }
   ],
   "source": [
    "#Write a Python Program to Display Fibonacci Sequence Using Recursion?\n",
    "def fibo_series(n):\n",
    "    if n<=1:\n",
    "        return n\n",
    "    else:\n",
    "        return (fibo_series(n-1)+fibo_series(n-2))\n",
    "    \n",
    "n_times=10\n",
    "\n",
    "if n_times < 0:\n",
    "    print(\"Enter valid number\")\n",
    "else:\n",
    "    for i in range(0,n_times):\n",
    "        item=fibo_series(i)\n",
    "        print(item)"
   ]
  },
  {
   "cell_type": "code",
   "execution_count": 9,
   "metadata": {},
   "outputs": [
    {
     "name": "stdout",
     "output_type": "stream",
     "text": [
      "720\n"
     ]
    }
   ],
   "source": [
    "#Write a Python Program to Find Factorial of Number Using Recursion?\n",
    "def fact(n):\n",
    "    if n==1:\n",
    "        return n\n",
    "    else:\n",
    "        return n * fact(n-1)\n",
    "    \n",
    "\n",
    "n_fact = 6\n",
    "\n",
    "if n_fact < 0:\n",
    "    print(\"Enter valid number\")\n",
    "else:\n",
    "    \n",
    "        print(fact(n_fact))"
   ]
  },
  {
   "cell_type": "code",
   "execution_count": 7,
   "metadata": {},
   "outputs": [
    {
     "name": "stdout",
     "output_type": "stream",
     "text": [
      "enter your weight in kg60\n",
      "enter your height in metre1.82\n",
      "Enter your age here: 18\n",
      "18.11375437749064\n",
      "You are a child, there is a different BMI categorisation for you. This BMI calculator is only for adults\n"
     ]
    }
   ],
   "source": [
    "#Write a Python Program to calculate your Body Mass Index?\n",
    "weight = float(input(\"enter your weight in kg\"))\n",
    "height = float(input(\"enter your height in metre\"))\n",
    "age = int(input(\"Enter your age here: \"))\n",
    "    \n",
    "BMI = weight / height**2\n",
    "print(BMI)\n",
    "if age >19:\n",
    "    if BMI < 19:\n",
    "        print(\"Your BMI is underweight\")\n",
    "    elif BMI < 24.9 and BMI > 19:\n",
    "        print(\"Your BMI is normal\")\n",
    "    elif BMI < 29.9 and BMI > 25:\n",
    "        print(\"Your BMI is overweight\")\n",
    "    elif BMI < 34.9 and BMI > 30:\n",
    "        print(\"Your BMI is Obesity Level I\")\n",
    "    elif BMI < 39.9 and BMI > 35:\n",
    "        print(\"Your BMI is Obesity Level II\")\n",
    "    else:\n",
    "        print(\"Your BMI is Obesity Level III\")\n",
    "else:\n",
    "    print(\"You are a child, there is a different BMI categorisation for you. This BMI calculator is only for adults\")"
   ]
  },
  {
   "cell_type": "code",
   "execution_count": null,
   "metadata": {},
   "outputs": [],
   "source": [
    "#Write a Python Program to calculate the natural logarithm of any number?\n",
    "choice = int(input(\"Select 1,2,3,4 where\\n1.natural logarithm(number,(Base))\\n2.logarithm base 2 of number. #Displays more accurate result than log(number,2).\\n3.logarithm base 10 of number.#Displays more accurate result than log(number,10).\\n4.logarithm(1+a)\\n\"))\n",
    "number = int(input(\"Enter number here:\"))\n",
    "import math\n",
    "if number>0:\n",
    "    if choice==1:\n",
    "        select = int(input(\"Select 1or2\\n 1.Natural Log with base e\\n 2.Natural log with some base \\n\"))\n",
    "        if select == 1:\n",
    "            print(\" the natural log of \", number,\" is \",math.log(number))\n",
    "        else: \n",
    "            try:\n",
    "                base = int(input(\"Enter base value\"))\n",
    "                print(\" the natural log of \", number,\"with base\",base,\" is \",math.log(number,base))\n",
    "            except ZeroDivisionError:\n",
    "                print(\"Enter valid base value\")\n",
    "    elif choice ==2:\n",
    "        print(\" the log base 2 of a \", number,\" is \",math.log2(number))\n",
    "    elif choice==3:\n",
    "        print(\" the log base 10 of a \", number,\" is \",math.log10(number))\n",
    "    elif choice==4:\n",
    "        print(\" the log(1+number) of a \", number,\" is \",math.log1p(number))\n",
    "    else:\n",
    "        print(\"Choice selected is invalid\")\n",
    "else:\n",
    "    print(\"Entered number is invalid, Please enter a valid number\")"
   ]
  },
  {
   "cell_type": "code",
   "execution_count": null,
   "metadata": {},
   "outputs": [],
   "source": [
    "#Write a Python Program for cube sum of first n natural numbers?\n",
    "number = int(input(\"Enter the value of n \"))\n",
    "sum=0\n",
    "for i in range(1,number+1):\n",
    "    sum=sum+i**3\n",
    "print(\"cube sum of first {} natural numbers is {}\".format(number,sum))"
   ]
  }
 ],
 "metadata": {
  "kernelspec": {
   "display_name": "Python 3",
   "language": "python",
   "name": "python3"
  },
  "language_info": {
   "codemirror_mode": {
    "name": "ipython",
    "version": 3
   },
   "file_extension": ".py",
   "mimetype": "text/x-python",
   "name": "python",
   "nbconvert_exporter": "python",
   "pygments_lexer": "ipython3",
   "version": "3.8.5"
  }
 },
 "nbformat": 4,
 "nbformat_minor": 4
}
